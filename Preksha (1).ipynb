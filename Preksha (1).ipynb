{
 "cells": [
  {
   "cell_type": "code",
   "execution_count": 158,
   "metadata": {},
   "outputs": [
    {
     "data": {
      "image/png": "[encoded data removed]",
      "text/plain": [
       "<Figure size 432x288 with 2 Axes>"
      ]
     },
     "metadata": {
      "needs_background": "light"
     },
     "output_type": "display_data"
    }
   ],
   "source": [
    "# References:\n",
    "# 1. Image deskew: https://fsix.github.io/mnist/Deskewing.html\n",
    "\n",
    "import timeit\n",
    "import numpy as np\n",
    "import csv\n",
    "import matplotlib.pyplot as plt\n",
    "import pandas as pd\n",
    "from sklearn import preprocessing\n",
    "from scipy.ndimage import interpolation\n",
    "from mpl_toolkits.axes_grid1 import AxesGrid\n",
    "from scipy.linalg import svd\n",
    "from sklearn.manifold import TSNE\n",
    "from sklearn.decomposition import PCA\n",
    "\n",
    "# Functions to deskew the images\n",
    "def moments(image):\n",
    "    c0,c1 = np.mgrid[:image.shape[0],:image.shape[1]] # A trick in numPy to create a mesh grid\n",
    "    totalImage = np.sum(image) #sum of pixels\n",
    "    m0 = np.sum(c0*image)/totalImage #mu_x\n",
    "    m1 = np.sum(c1*image)/totalImage #mu_y\n",
    "    m00 = np.sum((c0-m0)**2*image)/totalImage #var(x)\n",
    "    m11 = np.sum((c1-m1)**2*image)/totalImage #var(y)\n",
    "    m01 = np.sum((c0-m0)*(c1-m1)*image)/totalImage #covariance(x,y)\n",
    "    mu_vector = np.array([m0,m1]) # Notice that these are \\mu_x, \\mu_y respectively\n",
    "    covariance_matrix = np.array([[m00,m01],[m01,m11]]) # Do you see a similarity between the covariance matrix\n",
    "    return mu_vector, covariance_matrix\n",
    "\n",
    "\n",
    "def deskew(image):\n",
    "    c,v = moments(image)\n",
    "    alpha = v[0,1]/v[0,0]\n",
    "    affine = np.array([[1,0],[alpha,1]])\n",
    "    ocenter = np.array(image.shape)/2.0\n",
    "    offset = c-np.dot(affine,ocenter)\n",
    "    return interpolation.affine_transform(image,affine,offset=offset)\n",
    "\n",
    "def deskewAll(X):\n",
    "    currents = []\n",
    "    for i in range(len(X)):\n",
    "        currents.append(deskew(X[i].reshape(28,28)).flatten())\n",
    "    return np.array(currents)\n",
    "\n",
    "# Start the time to capture ru time\n",
    "start = timeit.default_timer()\n",
    "\n",
    "# Read the training data\n",
    "data = np.genfromtxt(\"mnist_train.txt\", delimiter=',')\n",
    "label = data[:,0]\n",
    "pixel = data[:,1:]\n",
    "\n",
    "# Deskew the  training data data \n",
    "Deskewed_training_data =  deskewAll(pixel)\n",
    "\n",
    "# Center the training data\n",
    "center = preprocessing.StandardScaler(with_std=False).fit(Deskewed_training_data)\n",
    "train_X = center.transform(Deskewed_training_data)\n",
    "\n",
    "# Applying PCA to train data\n",
    "pca = PCA(0.95)\n",
    "pca = pca.fit(train_X)\n",
    "reduced_data = pca.fit_transform(train_X) # This has reduced the data without loosing 95 % variance of the data.\n",
    "\n",
    "approximation = pca.inverse_transform(reduced_data)\n",
    "\n",
    "# Original Image\n",
    "plt.subplot(1, 2, 1);\n",
    "plt.imshow(train_X[0].reshape(28,28),\n",
    "              cmap = plt.cm.gray,interpolation='nearest')\n",
    "plt.xlabel('784 components', fontsize = 10)\n",
    "plt.title('Original Image', fontsize = 10);\n",
    "\n",
    "# 115 principal components\n",
    "plt.subplot(1, 2, 2);\n",
    "plt.imshow(approximation[0].reshape(28, 28),\n",
    "              cmap = plt.cm.gray, interpolation='nearest');\n",
    "plt.xlabel('115 components', fontsize = 10)\n",
    "plt.title('95% of Explained Variance', fontsize = 10);\n",
    "\n",
    "\n",
    "# Read the test data\n",
    "data_2 = np.genfromtxt(\"mnist_test.txt\", delimiter=',')\n",
    "\n",
    "# Deskweing test data\n",
    "Deskewed_test_data = deskewAll(data_2[:,1:])\n",
    "\n",
    "# Centering test data\n",
    "center_test = preprocessing.StandardScaler(with_std=False).fit(Deskewed_test_data)\n",
    "test_X = center.transform(Deskewed_test_data)\n",
    "\n",
    "# PCA tranformation\n",
    "reduced_test_data = pca.transform(test_X)"
   ]
  },
  {
   "cell_type": "code",
   "execution_count": 159,
   "metadata": {},
   "outputs": [
    {
     "name": "stdout",
     "output_type": "stream",
     "text": [
      "[[ 956    0    0    1    0    6    8    1    4    4]\n",
      " [   0 1122    5    2    0    1    2    1    2    0]\n",
      " [   8    3  985    8    4    2    3    3   15    1]\n",
      " [   0    0    8  973    0   12    0    6    7    4]\n",
      " [   1    3    7    1  941    5    3    1    3   17]\n",
      " [   3    0    0   10    2  863    4    0    8    2]\n",
      " [   9    3    7    1    8    7  919    0    3    1]\n",
      " [   0    1   12    1    5    1    0  992    1   15]\n",
      " [   6    1    6   10    4    8    2    3  927    7]\n",
      " [   4    3    3    8   22    4    1   15    2  947]]\n",
      "accuracy: 0.9625\n",
      "error rate: 0.03749999999999998\n",
      "time: 63.73401236534119 seconds\n"
     ]
    }
   ],
   "source": [
    "final_error_rate =[]\n",
    "\n",
    "from sklearn.linear_model import LogisticRegression\n",
    "from sklearn.multiclass import OneVsOneClassifier\n",
    "from sklearn.metrics import accuracy_score\n",
    "from sklearn.metrics import confusion_matrix\n",
    "import numpy as np\n",
    "import time \n",
    "start_time = time.time()\n",
    "\n",
    "\n",
    "data1 = np.genfromtxt(\"mnist_test.txt\", delimiter=',')\n",
    "test_label1 = data1[:,0]\n",
    "\n",
    "Lr1=OneVsOneClassifier(LogisticRegression()).fit(reduced_data,label)\n",
    "\n",
    "\n",
    "\n",
    "y_pred1=Lr1.predict(reduced_test_data)\n",
    "\n",
    "accuracy_ovo=accuracy_score(test_label1,y_pred1)\n",
    "error_rate1=1-accuracy_ovo\n",
    "final_error_rate.append(error_rate1)\n",
    "fm1 =confusion_matrix(test_label1,y_pred1)\n",
    "\n",
    "print(fm1)\n",
    "\n",
    "print(\"accuracy:\",accuracy_ovo)\n",
    "print(\"error rate:\",error_rate1)\n",
    "print(\"time: %s seconds\" %(time.time()-start_time))\n"
   ]
  },
  {
   "cell_type": "code",
   "execution_count": 160,
   "metadata": {},
   "outputs": [
    {
     "name": "stdout",
     "output_type": "stream",
     "text": [
      "[[ 960    0    0    2    1    6    7    1    1    2]\n",
      " [   0 1122    2    1    0    1    4    0    4    1]\n",
      " [   7    1  970    7    5    1    5    7   29    0]\n",
      " [   1    1   10  961    1   14    0    7   12    3]\n",
      " [   2    1    4    2  935    2    4    3    8   21]\n",
      " [   5    0    1    6    6  845   10    1   14    4]\n",
      " [   9    2    5    1    8   13  916    0    3    1]\n",
      " [   2    2   15    0    7    0    0  972    6   24]\n",
      " [   9    1   10    8    7   13    3    2  913    8]\n",
      " [  11    4    3   14   29    4    0   18    7  919]]\n",
      "accuracy: 0.9513\n",
      "error rate: 0.048699999999999966\n",
      "time: 91.30515837669373 seconds\n"
     ]
    }
   ],
   "source": [
    "from sklearn.linear_model import LogisticRegression\n",
    "from sklearn.metrics import accuracy_score\n",
    "from sklearn.metrics import confusion_matrix\n",
    "import numpy as np\n",
    "import time \n",
    "start_time = time.time()\n",
    "\n",
    "\n",
    "data1 = np.genfromtxt(\"mnist_test.txt\", delimiter=',')\n",
    "test_label2 = data1[:,0]\n",
    "\n",
    "Lr2=LogisticRegression(penalty='l1',multi_class='ovr').fit(reduced_data,label)\n",
    "\n",
    "\n",
    "\n",
    "y_pred2=Lr2.predict(reduced_test_data)\n",
    "\n",
    "accuracy_ovr=accuracy_score(test_label2,y_pred2)\n",
    "error_rate2=1-accuracy_ovr\n",
    "final_error_rate.append(error_rate2)\n",
    "\n",
    "\n",
    "\n",
    "fm2 =confusion_matrix(test_label2,y_pred2)\n",
    "\n",
    "print(fm2)\n",
    "\n",
    "print(\"accuracy:\",accuracy_ovr)\n",
    "print(\"error rate:\",error_rate2)\n",
    "print(\"time: %s seconds\" %(time.time()-start_time))\n"
   ]
  },
  {
   "cell_type": "code",
   "execution_count": 161,
   "metadata": {},
   "outputs": [
    {
     "name": "stdout",
     "output_type": "stream",
     "text": [
      "[[ 957    0    3    2    0    8    7    1    1    1]\n",
      " [   0 1120    4    3    0    1    2    0    5    0]\n",
      " [   7    6  967   12    4    1    6    6   22    1]\n",
      " [   0    0    8  968    1    9    0    5   12    7]\n",
      " [   1    1    5    2  936    2    7    3    5   20]\n",
      " [   3    0    0    6    5  860    5    0   10    3]\n",
      " [   9    3    7    1   12    9  914    1    2    0]\n",
      " [   1    2   14    0    4    0    0  982    4   21]\n",
      " [   7    1    8    9    7   11    3    4  919    5]\n",
      " [   5    4    3   11   23    4    0   19    6  934]]\n",
      "accuracy: 0.9557\n",
      "error rate: 0.044300000000000006\n",
      "time: 253.89709997177124 seconds\n"
     ]
    },
    {
     "name": "stderr",
     "output_type": "stream",
     "text": [
      "C:\\Users\\admin\\Anaconda3\\lib\\site-packages\\sklearn\\utils\\optimize.py:203: ConvergenceWarning: newton-cg failed to converge. Increase the number of iterations.\n",
      "  \"number of iterations.\", ConvergenceWarning)\n"
     ]
    }
   ],
   "source": [
    "from sklearn.linear_model import LogisticRegression\n",
    "from sklearn.metrics import accuracy_score\n",
    "from sklearn.metrics import confusion_matrix\n",
    "import numpy as np\n",
    "import time \n",
    "start_time = time.time()\n",
    "data1 = np.genfromtxt(\"mnist_test.txt\", delimiter=',')\n",
    "test_label3 = data1[:,0]\n",
    "Lr3=LogisticRegression(penalty='l2',multi_class='multinomial',solver='newton-cg').fit(reduced_data,label)\n",
    "y_pred3=Lr3.predict(reduced_test_data)\n",
    "\n",
    "accuracy_multinomial=accuracy_score(test_label3,y_pred3)\n",
    "error_rate3=1-accuracy_multinomial\n",
    "final_error_rate.append(error_rate3)\n",
    "\n",
    "fm3 =confusion_matrix(test_label3,y_pred3)\n",
    "\n",
    "print(fm3)\n",
    "\n",
    "print(\"accuracy:\",accuracy_multinomial)\n",
    "print(\"error rate:\",error_rate3)\n",
    "print(\"time: %s seconds\" %(time.time()-start_time))"
   ]
  },
  {
   "cell_type": "code",
   "execution_count": 182,
   "metadata": {},
   "outputs": [
    {
     "data": {
      "image/png": "[encoded data removed]",
      "text/plain": [
       "<Figure size 432x288 with 1 Axes>"
      ]
     },
     "metadata": {
      "needs_background": "light"
     },
     "output_type": "display_data"
    }
   ],
   "source": [
    "import matplotlib.pyplot as plt\n",
    "#import matplotlib.pyplot.hist\n",
    "x=np.arange(3)\n",
    "plt.bar(x,height=final_error_rate)\n",
    "plt.bar(x+0.2,height=final_error_rate1)\n",
    "plt.xticks(x,['one vs one','one vs rest','multinomial'])\n",
    "plt.show()"
   ]
  },
  {
   "cell_type": "code",
   "execution_count": 163,
   "metadata": {},
   "outputs": [
    {
     "data": {
      "image/png": "[encoded data removed]",
      "text/plain": [
       "<Figure size 432x288 with 2 Axes>"
      ]
     },
     "metadata": {
      "needs_background": "light"
     },
     "output_type": "display_data"
    }
   ],
   "source": [
    "# References:\n",
    "# 1. Image deskew: https://fsix.github.io/mnist/Deskewing.html\n",
    "\n",
    "import timeit\n",
    "import numpy as np\n",
    "import csv\n",
    "import matplotlib.pyplot as plt\n",
    "import pandas as pd\n",
    "from sklearn import preprocessing\n",
    "from scipy.ndimage import interpolation\n",
    "from mpl_toolkits.axes_grid1 import AxesGrid\n",
    "from scipy.linalg import svd\n",
    "from sklearn.manifold import TSNE\n",
    "from sklearn.decomposition import PCA\n",
    "\n",
    "# Functions to deskew the images\n",
    "def moments(image):\n",
    "    c0,c1 = np.mgrid[:image.shape[0],:image.shape[1]] # A trick in numPy to create a mesh grid\n",
    "    totalImage = np.sum(image) #sum of pixels\n",
    "    m0 = np.sum(c0*image)/totalImage #mu_x\n",
    "    m1 = np.sum(c1*image)/totalImage #mu_y\n",
    "    m00 = np.sum((c0-m0)**2*image)/totalImage #var(x)\n",
    "    m11 = np.sum((c1-m1)**2*image)/totalImage #var(y)\n",
    "    m01 = np.sum((c0-m0)*(c1-m1)*image)/totalImage #covariance(x,y)\n",
    "    mu_vector = np.array([m0,m1]) # Notice that these are \\mu_x, \\mu_y respectively\n",
    "    covariance_matrix = np.array([[m00,m01],[m01,m11]]) # Do you see a similarity between the covariance matrix\n",
    "    return mu_vector, covariance_matrix\n",
    "\n",
    "\n",
    "def deskew(image):\n",
    "    c,v = moments(image)\n",
    "    alpha = v[0,1]/v[0,0]\n",
    "    affine = np.array([[1,0],[alpha,1]])\n",
    "    ocenter = np.array(image.shape)/2.0\n",
    "    offset = c-np.dot(affine,ocenter)\n",
    "    return interpolation.affine_transform(image,affine,offset=offset)\n",
    "\n",
    "def deskewAll(X):\n",
    "    currents = []\n",
    "    for i in range(len(X)):\n",
    "        currents.append(deskew(X[i].reshape(28,28)).flatten())\n",
    "    return np.array(currents)\n",
    "\n",
    "# Start the time to capture ru time\n",
    "start = timeit.default_timer()\n",
    "\n",
    "# Read the training data\n",
    "data = np.genfromtxt(\"mnist_train.txt\", delimiter=',')\n",
    "label = data[:,0]\n",
    "pixel = data[:,1:]\n",
    "\n",
    "# Deskew the  training data data \n",
    "Deskewed_training_data =  deskewAll(pixel)\n",
    "\n",
    "# Center the training data\n",
    "center = preprocessing.StandardScaler(with_std=False).fit(Deskewed_training_data)\n",
    "train_X = center.transform(Deskewed_training_data)\n",
    "\n",
    "# Applying PCA to train data\n",
    "pca = PCA(0.85)\n",
    "pca = pca.fit(train_X)\n",
    "reduced_data = pca.fit_transform(train_X) # This has reduced the data without loosing 95 % variance of the data.\n",
    "\n",
    "approximation = pca.inverse_transform(reduced_data)\n",
    "\n",
    "# Original Image\n",
    "plt.subplot(1, 2, 1);\n",
    "plt.imshow(train_X[0].reshape(28,28),\n",
    "              cmap = plt.cm.gray,interpolation='nearest')\n",
    "plt.xlabel('784 components', fontsize = 10)\n",
    "plt.title('Original Image', fontsize = 10);\n",
    "\n",
    "# 115 principal components\n",
    "plt.subplot(1, 2, 2);\n",
    "plt.imshow(approximation[0].reshape(28, 28),\n",
    "              cmap = plt.cm.gray, interpolation='nearest');\n",
    "plt.xlabel('115 components', fontsize = 10)\n",
    "plt.title('85% of Explained Variance', fontsize = 10);\n",
    "\n",
    "\n",
    "# Read the test data\n",
    "data_2 = np.genfromtxt(\"mnist_test.txt\", delimiter=',')\n",
    "\n",
    "# Deskweing test data\n",
    "Deskewed_test_data = deskewAll(data_2[:,1:])\n",
    "\n",
    "# Centering test data\n",
    "center_test = preprocessing.StandardScaler(with_std=False).fit(Deskewed_test_data)\n",
    "test_X = center.transform(Deskewed_test_data)\n",
    "\n",
    "# PCA tranformation\n",
    "reduced_test_data = pca.transform(test_X)"
   ]
  },
  {
   "cell_type": "code",
   "execution_count": 164,
   "metadata": {},
   "outputs": [
    {
     "name": "stdout",
     "output_type": "stream",
     "text": [
      "[[ 957    0    2    1    0    6    8    1    3    2]\n",
      " [   0 1118    4    2    0    2    3    0    6    0]\n",
      " [   6    0  985   11    3    1    3    6   17    0]\n",
      " [   1    1    4  975    1   12    0    5    8    3]\n",
      " [   2    0    3    2  947    0    6    1    5   16]\n",
      " [   4    0    0   12    3  856    8    1    6    2]\n",
      " [   6    3    4    1    5   10  926    1    1    1]\n",
      " [   1    2   13    0    1    0    0  994    2   15]\n",
      " [   4    0    7   10    4   12    4    2  926    5]\n",
      " [   0    4    1    7   18    5    1   19    4  950]]\n",
      "accuracy: 0.9634\n",
      "error rate: 0.036599999999999966\n",
      "time: 21.161760330200195 seconds\n"
     ]
    }
   ],
   "source": [
    "final_error_rate1 =[]\n",
    "\n",
    "from sklearn.linear_model import LogisticRegression\n",
    "from sklearn.multiclass import OneVsOneClassifier\n",
    "from sklearn.metrics import accuracy_score\n",
    "from sklearn.metrics import confusion_matrix\n",
    "import numpy as np\n",
    "import time \n",
    "start_time = time.time()\n",
    "\n",
    "\n",
    "data1 = np.genfromtxt(\"mnist_test.txt\", delimiter=',')\n",
    "test_label4 = data1[:,0]\n",
    "\n",
    "Lr4=OneVsOneClassifier(LogisticRegression()).fit(reduced_data,label)\n",
    "\n",
    "\n",
    "\n",
    "y_pred4=Lr4.predict(reduced_test_data)\n",
    "\n",
    "accuracy_ovo1=accuracy_score(test_label4,y_pred4)\n",
    "error_rate4=1-accuracy_ovo1\n",
    "final_error_rate1.append(error_rate4)\n",
    "\n",
    "\n",
    "\n",
    "fm4 =confusion_matrix(test_label4,y_pred4)\n",
    "\n",
    "print(fm4)\n",
    "\n",
    "print(\"accuracy:\",accuracy_ovo1)\n",
    "print(\"error rate:\",error_rate4)\n",
    "print(\"time: %s seconds\" %(time.time()-start_time))\n"
   ]
  },
  {
   "cell_type": "code",
   "execution_count": 165,
   "metadata": {},
   "outputs": [
    {
     "name": "stdout",
     "output_type": "stream",
     "text": [
      "[[ 960    1    1    0    0    5    6    2    3    2]\n",
      " [   0 1114    2    2    0    1    4    1   11    0]\n",
      " [   5    3  950   13    9    3    4    6   38    1]\n",
      " [   1    1    8  962    1   13    0    6   12    6]\n",
      " [   1    0    8    2  930    2    7    3    8   21]\n",
      " [  13    2    1    8    8  835    8    2   11    4]\n",
      " [   8    3    8    2    8   16  909    0    3    1]\n",
      " [   2    4   15    1    3    1    0  978    3   21]\n",
      " [   4    1   10    8    5   15    7    4  909   11]\n",
      " [  10    5    2   13   31    2    1   23    9  913]]\n",
      "accuracy: 0.946\n",
      "error rate: 0.05400000000000005\n",
      "time: 21.820430040359497 seconds\n"
     ]
    }
   ],
   "source": [
    "from sklearn.linear_model import LogisticRegression\n",
    "from sklearn.metrics import accuracy_score\n",
    "from sklearn.metrics import confusion_matrix\n",
    "import numpy as np\n",
    "import time \n",
    "start_time = time.time()\n",
    "\n",
    "\n",
    "data1 = np.genfromtxt(\"mnist_test.txt\", delimiter=',')\n",
    "test_label5 = data1[:,0]\n",
    "\n",
    "Lr5=LogisticRegression(penalty='l1',multi_class='ovr').fit(reduced_data,label)\n",
    "\n",
    "\n",
    "\n",
    "y_pred5=Lr5.predict(reduced_test_data)\n",
    "\n",
    "accuracy_ovr1=accuracy_score(test_label5,y_pred5)\n",
    "error_rate5=1-accuracy_ovr1\n",
    "final_error_rate1.append(error_rate5)\n",
    "\n",
    "\n",
    "\n",
    "fm5 =confusion_matrix(test_label5,y_pred5)\n",
    "\n",
    "print(fm5)\n",
    "\n",
    "print(\"accuracy:\",accuracy_ovr1)\n",
    "print(\"error rate:\",error_rate5)\n",
    "print(\"time: %s seconds\" %(time.time()-start_time))\n"
   ]
  },
  {
   "cell_type": "code",
   "execution_count": 166,
   "metadata": {},
   "outputs": [
    {
     "name": "stdout",
     "output_type": "stream",
     "text": [
      "[[ 957    0    1    0    0    8    7    2    3    2]\n",
      " [   0 1114    1    3    0    1    5    0   11    0]\n",
      " [   6    2  955   17    9    3    4    8   27    1]\n",
      " [   2    1    9  969    0   11    0    4    9    5]\n",
      " [   1    0    4    2  932    3    8    5    6   21]\n",
      " [   7    0    0    9    4  851    7    1   11    2]\n",
      " [  10    3    8    1   13   14  903    4    2    0]\n",
      " [   1    3   15    2    3    1    0  979    6   18]\n",
      " [   4    1    8   10    6   17    3    4  914    7]\n",
      " [   4    4    1   12   23    1    1   20   10  933]]\n",
      "accuracy: 0.9507\n",
      "error rate: 0.04930000000000001\n",
      "time: 148.76563620567322 seconds\n"
     ]
    },
    {
     "name": "stderr",
     "output_type": "stream",
     "text": [
      "C:\\Users\\admin\\Anaconda3\\lib\\site-packages\\sklearn\\utils\\optimize.py:203: ConvergenceWarning: newton-cg failed to converge. Increase the number of iterations.\n",
      "  \"number of iterations.\", ConvergenceWarning)\n"
     ]
    }
   ],
   "source": [
    "from sklearn.linear_model import LogisticRegression\n",
    "from sklearn.metrics import accuracy_score\n",
    "#from sklearn.linear_model import SGDClassifier\n",
    "from sklearn.metrics import confusion_matrix\n",
    "import numpy as np\n",
    "import time \n",
    "start_time = time.time()\n",
    "\n",
    "\n",
    "\n",
    "data1 = np.genfromtxt(\"mnist_test.txt\", delimiter=',')\n",
    "test_label6 = data1[:,0]\n",
    "\n",
    "\n",
    "\n",
    "Lr6=LogisticRegression(penalty='l2',multi_class='multinomial',solver='newton-cg').fit(reduced_data,label)\n",
    "\n",
    "\n",
    "\n",
    "y_pred6=Lr6.predict(reduced_test_data)\n",
    "\n",
    "accuracy_multinomial1=accuracy_score(test_label6,y_pred6)\n",
    "error_rate6=1-accuracy_multinomial1\n",
    "final_error_rate1.append(error_rate6)\n",
    "\n",
    "fm6 =confusion_matrix(test_label6,y_pred6)\n",
    "\n",
    "print(fm6)\n",
    "\n",
    "print(\"accuracy:\",accuracy_multinomial1)\n",
    "print(\"error rate:\",error_rate6)\n",
    "print(\"time: %s seconds\" %(time.time()-start_time))"
   ]
  },
  {
   "cell_type": "code",
   "execution_count": 167,
   "metadata": {},
   "outputs": [
    {
     "data": {
      "image/png": "[encoded data removed]",
      "text/plain": [
       "<Figure size 432x288 with 1 Axes>"
      ]
     },
     "metadata": {
      "needs_background": "light"
     },
     "output_type": "display_data"
    }
   ],
   "source": [
    "import matplotlib.pyplot as plt\n",
    "#import matplotlib.pyplot.hist\n",
    "x=np.arange(3)\n",
    "plt.bar(x,height=final_error_rate1)\n",
    "plt.xticks(x,['one vs one','one vs rest','multinomial'])\n",
    "plt.show()"
   ]
  },
  {
   "cell_type": "code",
   "execution_count": 212,
   "metadata": {},
   "outputs": [
    {
     "name": "stdout",
     "output_type": "stream",
     "text": [
      "(10000,)\n",
      "(10000,)\n"
     ]
    }
   ],
   "source": [
    "print(Lr6.predict_proba(reduced_test_data)[::,1].shape)\n",
    "\n",
    "print(test_label6.shape)"
   ]
  },
  {
   "cell_type": "code",
   "execution_count": 216,
   "metadata": {},
   "outputs": [
    {
     "data": {
      "image/png": "[encoded data removed]",
      "text/plain": [
       "<Figure size 576x360 with 1 Axes>"
      ]
     },
     "metadata": {
      "needs_background": "light"
     },
     "output_type": "display_data"
    }
   ],
   "source": [
    "import pandas as pd\n",
    "from itertools import cycle\n",
    "from scipy import interp\n",
    "\n",
    "n_classes=10\n",
    "fpr = dict()\n",
    "tpr = dict()\n",
    "roc_auc = dict()\n",
    "\n",
    "for i in range(n_classes):\n",
    "    fpr[i], tpr[i], _ =  roc_curve(np.array(pd.get_dummies(test_label1))[:, i], np.array(pd.get_dummies(y_pred1))[:, i])\n",
    "    roc_auc[i] = auc(fpr[i], tpr[i])\n",
    "\n",
    "\n",
    "all_fpr = np.unique(np.concatenate([fpr[i] for i in range(n_classes)]))\n",
    "\n",
    "mean_tpr = np.zeros_like(all_fpr)\n",
    "for i in range(n_classes):\n",
    "    mean_tpr += interp(all_fpr, fpr[i], tpr[i])\n",
    "\n",
    "mean_tpr /= n_classes\n",
    "\n",
    "fpr[\"macro\"] = all_fpr\n",
    "tpr[\"macro\"] = mean_tpr\n",
    "roc_auc[\"macro\"] = auc(fpr[\"macro\"], tpr[\"macro\"])\n",
    "\n",
    "lw=2\n",
    "plt.figure(figsize=(8,5))\n",
    "plt.plot(fpr[\"macro\"], tpr[\"macro\"],\n",
    "         label='macro-average ROC curve (area = {0:0.2f})'\n",
    "               ''.format(roc_auc[\"macro\"]),\n",
    "         color='green', linestyle=':', linewidth=4)\n",
    "\n",
    "colors = cycle(['aqua', 'darkorange', 'cornflowerblue'])\n",
    "for i, color in zip(range(n_classes), colors):\n",
    "    plt.plot(fpr[i], tpr[i], color=color, lw=lw,\n",
    "             label='ROC curve of class {0} (area = {1:0.2f})'\n",
    "             ''.format(i, roc_auc[i]))\n",
    "\n",
    "plt.plot([0, 1], [0, 1], 'k--',color='red', lw=lw)\n",
    "plt.xlim([0.0, 1.0])\n",
    "plt.ylim([0.0, 1.05])\n",
    "plt.annotate('Random Guess',(.5,.48),color='red')\n",
    "plt.xlabel('False Positive Rate')\n",
    "plt.ylabel('True Positive Rate')\n",
    "plt.title('Receiver Operating Characteristic for Logistic regression')\n",
    "plt.legend(loc=\"lower right\")\n",
    "plt.show()"
   ]
  },
  {
   "cell_type": "code",
   "execution_count": null,
   "metadata": {},
   "outputs": [],
   "source": []
  }
 ],
 "metadata": {
  "kernelspec": {
   "display_name": "Python 3",
   "language": "python",
   "name": "python3"
  },
  "language_info": {
   "codemirror_mode": {
    "name": "ipython",
    "version": 3
   },
   "file_extension": ".py",
   "mimetype": "text/x-python",
   "name": "python",
   "nbconvert_exporter": "python",
   "pygments_lexer": "ipython3",
   "version": "3.7.0"
  }
 },
 "nbformat": 4,
 "nbformat_minor": 2
}
